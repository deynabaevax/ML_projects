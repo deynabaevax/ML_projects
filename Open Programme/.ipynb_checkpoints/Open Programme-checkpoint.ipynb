{
 "cells": [
  {
   "cell_type": "markdown",
   "id": "2371021d-cb2e-4a9b-819e-260ee6ebdb3b",
   "metadata": {},
   "source": [
    "# Introduction\n",
    "\n",
    "   ## Table of Contents\n",
    "   1. What is Text Summarization in NLP?\n",
    "   2. Different Approaches\n",
    "   3. Introduction to Sequence-to-Sequence (Seq2Seq) Modeling\n",
    "   4. Understanding the Encoder – Decoder Architecture\n",
    "   6. Limitations of the Encoder – Decoder Architecture\n",
    "   7. The Intuition behind the Attention Mechanism\n",
    "   8. Understanding the Problem Statement\n",
    "   9. Implementing a Text Summarization Model in Python using Keras\n",
    "   10. Results\n",
    "   11. Conclusion"
   ]
  },
  {
   "cell_type": "markdown",
   "id": "e7777682-fc87-46be-93ce-c19b37349741",
   "metadata": {},
   "source": [
    "# 1. What is Text Summarization in NLP?\n",
    "\n",
    "Text summarization is the process of creating a short, coherent, and fluent summary of a longer text document and involves the outlining of the text’s major points. The image below represents how text summarization look like. That example is taken from a Google search of what text summarization is.\n",
    "\n",
    "<img width=\"500px\" src='meaning.png'>\n",
    "<hr>\n",
    "\n",
    "# 2. Different approaches\n",
    "\n",
    "There are two approaches, which are used for text summarization. They are:\n",
    "\n",
    "   - Extractive Summarization - it is used to summarize articles by identifying the important sentences or phrases from the original text and stitch together portions of the content to produce a condensed version. These extracted sentences are then used to form the summary.\n",
    "   - Abstractive Summarization - relies on being able to paraphrase and shorten parts of a document using advanced natural language techniques. Since abstractive machine learning algorithms can generate new phrases and sentences to capture the meaning of the source document.\n",
    "    \n",
    "<center><img width='600px' src='https://d2908q01vomqb2.cloudfront.net/fb644351560d8296fe6da332236b1f8d61b2828a/2022/02/23/Image-1.jpg'></center>\n",
    "   \n",
    "    "
   ]
  },
  {
   "cell_type": "code",
   "execution_count": null,
   "id": "d4cdf2ef-f8cd-44f6-81d7-b25cc2b71de7",
   "metadata": {},
   "outputs": [],
   "source": []
  }
 ],
 "metadata": {
  "kernelspec": {
   "display_name": "Python 3 (ipykernel)",
   "language": "python",
   "name": "python3"
  },
  "language_info": {
   "codemirror_mode": {
    "name": "ipython",
    "version": 3
   },
   "file_extension": ".py",
   "mimetype": "text/x-python",
   "name": "python",
   "nbconvert_exporter": "python",
   "pygments_lexer": "ipython3",
   "version": "3.8.8"
  }
 },
 "nbformat": 4,
 "nbformat_minor": 5
}
