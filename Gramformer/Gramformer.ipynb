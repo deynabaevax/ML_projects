{
 "cells": [
  {
   "cell_type": "markdown",
   "id": "6c43a8d5",
   "metadata": {},
   "source": [
    "## Install and Import Dependencies "
   ]
  },
  {
   "cell_type": "markdown",
   "id": "a17f6bce",
   "metadata": {},
   "source": [
    "Firstly, I need to install pytorch and then go to GitHub and install the https://github.com/PrithivirajDamodaran/Gramformer "
   ]
  },
  {
   "cell_type": "code",
   "execution_count": null,
   "id": "cdade982",
   "metadata": {},
   "outputs": [],
   "source": [
    "!pip3 install torch==1.8.2 torchvision==0.9.2 torchaudio===0.8.2 --extra-index-url https://download.pytorch.org/whl/lts/1.8/cu111"
   ]
  },
  {
   "cell_type": "code",
   "execution_count": null,
   "id": "05e93cab",
   "metadata": {},
   "outputs": [],
   "source": []
  },
  {
   "cell_type": "markdown",
   "id": "7b1d3aa5",
   "metadata": {},
   "source": [
    "## Instantiate "
   ]
  }
 ],
 "metadata": {
  "kernelspec": {
   "display_name": "Python 3",
   "language": "python",
   "name": "python3"
  },
  "language_info": {
   "codemirror_mode": {
    "name": "ipython",
    "version": 3
   },
   "file_extension": ".py",
   "mimetype": "text/x-python",
   "name": "python",
   "nbconvert_exporter": "python",
   "pygments_lexer": "ipython3",
   "version": "3.8.8"
  }
 },
 "nbformat": 4,
 "nbformat_minor": 5
}
