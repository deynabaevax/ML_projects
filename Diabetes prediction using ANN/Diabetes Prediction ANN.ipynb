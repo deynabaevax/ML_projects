{
 "cells": [
  {
   "cell_type": "markdown",
   "id": "1722ab02",
   "metadata": {},
   "source": [
    "# Introduction\n",
    "\n",
    "This assignment is initiated because of the Week 3 ANN workshop at Fontys UAS. \n",
    "\n",
    "\n",
    "## Objective\n",
    "\n",
    "Construct, train and test an artificial neural network using a dataset of your own choice. Try different settings for two or more hyperparameters and investigate the effect on learning. Write a Jupyter notebook which contains your python code and in which you describe your approach and results. In your notebook, you should describe your dataset and add a reference to the source of your dataset. Also, include references to any source code or tutorials that you used to write your code. If your neural network is aimed at classification, you should create a confusion matrix and discuss the results. Also reflect on the knowledge and skills you acquired on artificial neural networks.\n",
    "\n",
    "## Assignment Idea\n",
    "\n",
    "The goal of this assignment is to test how to work with Artificial Neural Networks (ANN). The <a href=\"https://www.kaggle.com/datasets/mathchi/diabetes-data-set\">dataset</a> chosen for this is taken from the <a href=\"https://www.kaggle.com/\">Kaggle's</a> website. \n",
    "\n",
    "\n",
    "## Assignment Goal\n",
    "\n",
    "The goal of this assignment is to make predictions with ANN.\n",
    "<img width=\"600px\" src=\"https://images.everydayhealth.com/images/diabetes-awareness-month-1440x810.jpg\">"
   ]
  },
  {
   "cell_type": "code",
   "execution_count": null,
   "id": "6801a6f7",
   "metadata": {},
   "outputs": [],
   "source": []
  },
  {
   "cell_type": "markdown",
   "id": "d595502e",
   "metadata": {},
   "source": [
    "## References\n",
    "\n",
    "- https://www.youtube.com/watch?v=BYY8eSJkJtA&ab_channel=LearnPythonwithRune\n",
    "- https://link.springer.com/chapter/10.1007/978-981-13-1642-5_59#:~:text=Among%20several%20algorithms%20of%20Machine,with%20the%20sample%20test%20data.\n",
    "- https://www.researchgate.net/publication/329829533_Diabetes_Prediction_Using_Artificial_Neural_Network\n",
    "- https://www.hindawi.com/journals/complexity/2021/5525271/"
   ]
  }
 ],
 "metadata": {
  "kernelspec": {
   "display_name": "Python 3",
   "language": "python",
   "name": "python3"
  },
  "language_info": {
   "codemirror_mode": {
    "name": "ipython",
    "version": 3
   },
   "file_extension": ".py",
   "mimetype": "text/x-python",
   "name": "python",
   "nbconvert_exporter": "python",
   "pygments_lexer": "ipython3",
   "version": "3.8.8"
  }
 },
 "nbformat": 4,
 "nbformat_minor": 5
}
